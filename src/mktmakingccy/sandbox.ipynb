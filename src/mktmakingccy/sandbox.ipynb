{
 "cells": [
  {
   "cell_type": "code",
   "execution_count": 1,
   "metadata": {},
   "outputs": [],
   "source": [
    "from utils import simulate_fair_price\n",
    "from order_book import OrderBook\n",
    "from trade import Trade\n",
    "\n",
    "import plotly.express as px\n",
    "import polars as pl\n",
    "import numpy as np"
   ]
  },
  {
   "cell_type": "markdown",
   "metadata": {},
   "source": [
    "## Question 1 : simulating fair prices"
   ]
  },
  {
   "cell_type": "code",
   "execution_count": 2,
   "metadata": {},
   "outputs": [],
   "source": [
    "# px.line(simulate_fair_price().to_pandas().set_index('Timestamp'))"
   ]
  },
  {
   "cell_type": "markdown",
   "metadata": {},
   "source": [
    "Question for teacher : what is the economic reality behind these models / what are some good papers explaining these choices\n",
    "- for a currency, going to 0.01 for a few months and then 50 months later is not realistic / signifies huge macroeconomic events\n",
    "- what are some papers indicating which parameters make sense in this context"
   ]
  },
  {
   "cell_type": "markdown",
   "metadata": {},
   "source": [
    "## Question 2 : Order book"
   ]
  },
  {
   "cell_type": "code",
   "execution_count": 2,
   "metadata": {},
   "outputs": [
    {
     "name": "stdout",
     "output_type": "stream",
     "text": [
      "Best Bid: (101.0, 15.0)\n",
      "Best Ask: (102.0, 5.0)\n",
      "Order Book:\n",
      " shape: (3, 4)\n",
      "┌──────────┬───────┬───────┬──────────┐\n",
      "│ size_bid ┆ bid   ┆ ask   ┆ size_ask │\n",
      "│ ---      ┆ ---   ┆ ---   ┆ ---      │\n",
      "│ f64      ┆ f64   ┆ f64   ┆ f64      │\n",
      "╞══════════╪═══════╪═══════╪══════════╡\n",
      "│ 15.0     ┆ 101.0 ┆ 102.0 ┆ 5.0      │\n",
      "│ 10.0     ┆ 100.5 ┆ 102.5 ┆ 20.0     │\n",
      "│ null     ┆ null  ┆ 103.0 ┆ 8.0      │\n",
      "└──────────┴───────┴───────┴──────────┘\n"
     ]
    }
   ],
   "source": [
    "# Example Usage\n",
    "order_book = OrderBook(n_levels=5)\n",
    "order_book.update_order(price=100.5, size=10, side=\"bid\")\n",
    "order_book.update_order(price=101.0, size=15, side=\"bid\")\n",
    "order_book.update_order(price=102.0, size=5, side=\"ask\")\n",
    "order_book.update_order(price=102.5, size=20, side=\"ask\")\n",
    "order_book.update_order(price=103.0, size=8, side=\"ask\")\n",
    "\n",
    "print(\"Best Bid:\", order_book.get_best_bid())  # (101.0, 15)\n",
    "print(\"Best Ask:\", order_book.get_best_ask())  # (102.0, 5)\n",
    "print(\"Order Book:\\n\", order_book.get_order_book())"
   ]
  },
  {
   "cell_type": "markdown",
   "metadata": {},
   "source": [
    "## Question 4 : Trade logic"
   ]
  },
  {
   "cell_type": "code",
   "execution_count": 7,
   "metadata": {},
   "outputs": [],
   "source": [
    "trade = Trade(26, \"buy\")"
   ]
  },
  {
   "cell_type": "code",
   "execution_count": 8,
   "metadata": {},
   "outputs": [
    {
     "data": {
      "text/html": [
       "<div><style>\n",
       ".dataframe > thead > tr,\n",
       ".dataframe > tbody > tr {\n",
       "  text-align: right;\n",
       "  white-space: pre-wrap;\n",
       "}\n",
       "</style>\n",
       "<small>shape: (2, 4)</small><table border=\"1\" class=\"dataframe\"><thead><tr><th>size_bid</th><th>bid</th><th>ask</th><th>size_ask</th></tr><tr><td>f64</td><td>f64</td><td>f64</td><td>f64</td></tr></thead><tbody><tr><td>15.0</td><td>101.0</td><td>102.5</td><td>19.0</td></tr><tr><td>10.0</td><td>100.5</td><td>103.0</td><td>8.0</td></tr></tbody></table></div>"
      ],
      "text/plain": [
       "shape: (2, 4)\n",
       "┌──────────┬───────┬───────┬──────────┐\n",
       "│ size_bid ┆ bid   ┆ ask   ┆ size_ask │\n",
       "│ ---      ┆ ---   ┆ ---   ┆ ---      │\n",
       "│ f64      ┆ f64   ┆ f64   ┆ f64      │\n",
       "╞══════════╪═══════╪═══════╪══════════╡\n",
       "│ 15.0     ┆ 101.0 ┆ 102.5 ┆ 19.0     │\n",
       "│ 10.0     ┆ 100.5 ┆ 103.0 ┆ 8.0      │\n",
       "└──────────┴───────┴───────┴──────────┘"
      ]
     },
     "execution_count": 8,
     "metadata": {},
     "output_type": "execute_result"
    }
   ],
   "source": [
    "order_book.get_order_book()"
   ]
  },
  {
   "cell_type": "code",
   "execution_count": 9,
   "metadata": {},
   "outputs": [],
   "source": [
    "ob = trade.update_orderbook_with_trade(orderbook=order_book)"
   ]
  },
  {
   "cell_type": "code",
   "execution_count": 10,
   "metadata": {},
   "outputs": [
    {
     "data": {
      "text/html": [
       "<div><style>\n",
       ".dataframe > thead > tr,\n",
       ".dataframe > tbody > tr {\n",
       "  text-align: right;\n",
       "  white-space: pre-wrap;\n",
       "}\n",
       "</style>\n",
       "<small>shape: (2, 4)</small><table border=\"1\" class=\"dataframe\"><thead><tr><th>size_bid</th><th>bid</th><th>ask</th><th>size_ask</th></tr><tr><td>f64</td><td>f64</td><td>f64</td><td>f64</td></tr></thead><tbody><tr><td>15.0</td><td>101.0</td><td>103.0</td><td>1.0</td></tr><tr><td>10.0</td><td>100.5</td><td>null</td><td>null</td></tr></tbody></table></div>"
      ],
      "text/plain": [
       "shape: (2, 4)\n",
       "┌──────────┬───────┬───────┬──────────┐\n",
       "│ size_bid ┆ bid   ┆ ask   ┆ size_ask │\n",
       "│ ---      ┆ ---   ┆ ---   ┆ ---      │\n",
       "│ f64      ┆ f64   ┆ f64   ┆ f64      │\n",
       "╞══════════╪═══════╪═══════╪══════════╡\n",
       "│ 15.0     ┆ 101.0 ┆ 103.0 ┆ 1.0      │\n",
       "│ 10.0     ┆ 100.5 ┆ null  ┆ null     │\n",
       "└──────────┴───────┴───────┴──────────┘"
      ]
     },
     "execution_count": 10,
     "metadata": {},
     "output_type": "execute_result"
    }
   ],
   "source": [
    "ob.get_order_book()"
   ]
  },
  {
   "cell_type": "markdown",
   "metadata": {},
   "source": []
  }
 ],
 "metadata": {
  "kernelspec": {
   "display_name": "mktmakingccy",
   "language": "python",
   "name": "python3"
  },
  "language_info": {
   "codemirror_mode": {
    "name": "ipython",
    "version": 3
   },
   "file_extension": ".py",
   "mimetype": "text/x-python",
   "name": "python",
   "nbconvert_exporter": "python",
   "pygments_lexer": "ipython3",
   "version": "3.11.11"
  }
 },
 "nbformat": 4,
 "nbformat_minor": 2
}
