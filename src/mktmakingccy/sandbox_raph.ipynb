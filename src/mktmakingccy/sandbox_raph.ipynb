{
 "cells": [
  {
   "cell_type": "code",
   "execution_count": 227,
   "metadata": {},
   "outputs": [],
   "source": [
    "from utils import simulate_fair_price, track_pnl\n",
    "import utils as utl\n",
    "from order_book import OrderBook\n",
    "from trade import Trade\n",
    "\n",
    "import plotly.express as px\n",
    "import polars as pl\n",
    "import numpy as np"
   ]
  },
  {
   "cell_type": "markdown",
   "metadata": {},
   "source": [
    "## Question 1 : simulating fair prices"
   ]
  },
  {
   "cell_type": "code",
   "execution_count": 228,
   "metadata": {},
   "outputs": [
    {
     "data": {
      "text/html": [
       "<div><style>\n",
       ".dataframe > thead > tr,\n",
       ".dataframe > tbody > tr {\n",
       "  text-align: right;\n",
       "  white-space: pre-wrap;\n",
       "}\n",
       "</style>\n",
       "<small>shape: (8_761, 2)</small><table border=\"1\" class=\"dataframe\"><thead><tr><th>timestamp</th><th>Fair Price</th></tr><tr><td>datetime[μs]</td><td>f64</td></tr></thead><tbody><tr><td>2025-01-01 00:00:00</td><td>100.0</td></tr><tr><td>2025-01-01 01:00:00</td><td>99.993465</td></tr><tr><td>2025-01-01 02:00:00</td><td>99.924112</td></tr><tr><td>2025-01-01 03:00:00</td><td>99.956111</td></tr><tr><td>2025-01-01 04:00:00</td><td>100.081577</td></tr><tr><td>&hellip;</td><td>&hellip;</td></tr><tr><td>2025-12-31 20:00:00</td><td>15.641663</td></tr><tr><td>2025-12-31 21:00:00</td><td>15.61366</td></tr><tr><td>2025-12-31 22:00:00</td><td>15.610055</td></tr><tr><td>2025-12-31 23:00:00</td><td>15.579576</td></tr><tr><td>2026-01-01 00:00:00</td><td>15.566631</td></tr></tbody></table></div>"
      ],
      "text/plain": [
       "shape: (8_761, 2)\n",
       "┌─────────────────────┬────────────┐\n",
       "│ timestamp           ┆ Fair Price │\n",
       "│ ---                 ┆ ---        │\n",
       "│ datetime[μs]        ┆ f64        │\n",
       "╞═════════════════════╪════════════╡\n",
       "│ 2025-01-01 00:00:00 ┆ 100.0      │\n",
       "│ 2025-01-01 01:00:00 ┆ 99.993465  │\n",
       "│ 2025-01-01 02:00:00 ┆ 99.924112  │\n",
       "│ 2025-01-01 03:00:00 ┆ 99.956111  │\n",
       "│ 2025-01-01 04:00:00 ┆ 100.081577 │\n",
       "│ …                   ┆ …          │\n",
       "│ 2025-12-31 20:00:00 ┆ 15.641663  │\n",
       "│ 2025-12-31 21:00:00 ┆ 15.61366   │\n",
       "│ 2025-12-31 22:00:00 ┆ 15.610055  │\n",
       "│ 2025-12-31 23:00:00 ┆ 15.579576  │\n",
       "│ 2026-01-01 00:00:00 ┆ 15.566631  │\n",
       "└─────────────────────┴────────────┘"
      ]
     },
     "execution_count": 228,
     "metadata": {},
     "output_type": "execute_result"
    }
   ],
   "source": [
    "historical_fair_price = simulate_fair_price()\n",
    "historical_fair_price"
   ]
  },
  {
   "cell_type": "code",
   "execution_count": 229,
   "metadata": {},
   "outputs": [
    {
     "data": {
      "text/html": [
       "<div><style>\n",
       ".dataframe > thead > tr,\n",
       ".dataframe > tbody > tr {\n",
       "  text-align: right;\n",
       "  white-space: pre-wrap;\n",
       "}\n",
       "</style>\n",
       "<small>shape: (8_761, 7)</small><table border=\"1\" class=\"dataframe\"><thead><tr><th>timestamp</th><th>fair_price</th><th>log_return</th><th>volatility</th><th>spread</th><th>bid</th><th>ask</th></tr><tr><td>datetime[μs]</td><td>f64</td><td>f64</td><td>f64</td><td>f64</td><td>f64</td><td>f64</td></tr></thead><tbody><tr><td>2025-01-01 00:00:00</td><td>100.0</td><td>null</td><td>null</td><td>null</td><td>null</td><td>null</td></tr><tr><td>2025-01-01 01:00:00</td><td>99.993465</td><td>-0.000065</td><td>0.0</td><td>0.0</td><td>99.993465</td><td>99.993465</td></tr><tr><td>2025-01-01 02:00:00</td><td>99.924112</td><td>-0.000694</td><td>0.000314</td><td>0.000628</td><td>99.908086</td><td>99.940138</td></tr><tr><td>2025-01-01 03:00:00</td><td>99.956111</td><td>0.00032</td><td>0.000418</td><td>0.000836</td><td>99.934798</td><td>99.977425</td></tr><tr><td>2025-01-01 04:00:00</td><td>100.081577</td><td>0.001254</td><td>0.000706</td><td>0.001413</td><td>100.045555</td><td>100.117599</td></tr><tr><td>&hellip;</td><td>&hellip;</td><td>&hellip;</td><td>&hellip;</td><td>&hellip;</td><td>&hellip;</td><td>&hellip;</td></tr><tr><td>2025-12-31 20:00:00</td><td>15.641663</td><td>0.000256</td><td>0.088373</td><td>0.176745</td><td>11.134658</td><td>20.148669</td></tr><tr><td>2025-12-31 21:00:00</td><td>15.61366</td><td>-0.001792</td><td>0.088368</td><td>0.176735</td><td>11.106912</td><td>20.120408</td></tr><tr><td>2025-12-31 22:00:00</td><td>15.610055</td><td>-0.000231</td><td>0.088363</td><td>0.176725</td><td>11.103564</td><td>20.116546</td></tr><tr><td>2025-12-31 23:00:00</td><td>15.579576</td><td>-0.001954</td><td>0.088358</td><td>0.176715</td><td>11.073343</td><td>20.08581</td></tr><tr><td>2026-01-01 00:00:00</td><td>15.566631</td><td>-0.000831</td><td>0.088352</td><td>0.176705</td><td>11.060655</td><td>20.072608</td></tr></tbody></table></div>"
      ],
      "text/plain": [
       "shape: (8_761, 7)\n",
       "┌─────────────────────┬────────────┬────────────┬────────────┬──────────┬────────────┬────────────┐\n",
       "│ timestamp           ┆ fair_price ┆ log_return ┆ volatility ┆ spread   ┆ bid        ┆ ask        │\n",
       "│ ---                 ┆ ---        ┆ ---        ┆ ---        ┆ ---      ┆ ---        ┆ ---        │\n",
       "│ datetime[μs]        ┆ f64        ┆ f64        ┆ f64        ┆ f64      ┆ f64        ┆ f64        │\n",
       "╞═════════════════════╪════════════╪════════════╪════════════╪══════════╪════════════╪════════════╡\n",
       "│ 2025-01-01 00:00:00 ┆ 100.0      ┆ null       ┆ null       ┆ null     ┆ null       ┆ null       │\n",
       "│ 2025-01-01 01:00:00 ┆ 99.993465  ┆ -0.000065  ┆ 0.0        ┆ 0.0      ┆ 99.993465  ┆ 99.993465  │\n",
       "│ 2025-01-01 02:00:00 ┆ 99.924112  ┆ -0.000694  ┆ 0.000314   ┆ 0.000628 ┆ 99.908086  ┆ 99.940138  │\n",
       "│ 2025-01-01 03:00:00 ┆ 99.956111  ┆ 0.00032    ┆ 0.000418   ┆ 0.000836 ┆ 99.934798  ┆ 99.977425  │\n",
       "│ 2025-01-01 04:00:00 ┆ 100.081577 ┆ 0.001254   ┆ 0.000706   ┆ 0.001413 ┆ 100.045555 ┆ 100.117599 │\n",
       "│ …                   ┆ …          ┆ …          ┆ …          ┆ …        ┆ …          ┆ …          │\n",
       "│ 2025-12-31 20:00:00 ┆ 15.641663  ┆ 0.000256   ┆ 0.088373   ┆ 0.176745 ┆ 11.134658  ┆ 20.148669  │\n",
       "│ 2025-12-31 21:00:00 ┆ 15.61366   ┆ -0.001792  ┆ 0.088368   ┆ 0.176735 ┆ 11.106912  ┆ 20.120408  │\n",
       "│ 2025-12-31 22:00:00 ┆ 15.610055  ┆ -0.000231  ┆ 0.088363   ┆ 0.176725 ┆ 11.103564  ┆ 20.116546  │\n",
       "│ 2025-12-31 23:00:00 ┆ 15.579576  ┆ -0.001954  ┆ 0.088358   ┆ 0.176715 ┆ 11.073343  ┆ 20.08581   │\n",
       "│ 2026-01-01 00:00:00 ┆ 15.566631  ┆ -0.000831  ┆ 0.088352   ┆ 0.176705 ┆ 11.060655  ┆ 20.072608  │\n",
       "└─────────────────────┴────────────┴────────────┴────────────┴──────────┴────────────┴────────────┘"
      ]
     },
     "execution_count": 229,
     "metadata": {},
     "output_type": "execute_result"
    }
   ],
   "source": [
    "historical_bid_ask = utl.compute_all_bid_ask(\n",
    "    historical_fair_price,\n",
    "    500_000_000\n",
    ")\n",
    "historical_bid_ask"
   ]
  },
  {
   "cell_type": "code",
   "execution_count": 230,
   "metadata": {},
   "outputs": [
    {
     "name": "stderr",
     "output_type": "stream",
     "text": [
      "sys:1: MapWithoutReturnDtypeWarning: Calling `map_elements` without specifying `return_dtype` can lead to unpredictable results. Specify `return_dtype` to silence this warning.\n",
      "sys:1: MapWithoutReturnDtypeWarning: Calling `map_elements` without specifying `return_dtype` can lead to unpredictable results. Specify `return_dtype` to silence this warning.\n",
      "sys:1: MapWithoutReturnDtypeWarning: Calling `map_elements` without specifying `return_dtype` can lead to unpredictable results. Specify `return_dtype` to silence this warning.\n",
      "sys:1: MapWithoutReturnDtypeWarning: Calling `map_elements` without specifying `return_dtype` can lead to unpredictable results. Specify `return_dtype` to silence this warning.\n"
     ]
    },
    {
     "data": {
      "text/html": [
       "<div><style>\n",
       ".dataframe > thead > tr,\n",
       ".dataframe > tbody > tr {\n",
       "  text-align: right;\n",
       "  white-space: pre-wrap;\n",
       "}\n",
       "</style>\n",
       "<small>shape: (8_761, 9)</small><table border=\"1\" class=\"dataframe\"><thead><tr><th>timestamp</th><th>fair_price</th><th>log_return</th><th>volatility</th><th>spread</th><th>bid</th><th>ask</th><th>prob_trade_bid</th><th>prob_trade_ask</th></tr><tr><td>datetime[μs]</td><td>f64</td><td>f64</td><td>f64</td><td>f64</td><td>f64</td><td>f64</td><td>f64</td><td>f64</td></tr></thead><tbody><tr><td>2025-01-01 00:00:00</td><td>100.0</td><td>null</td><td>null</td><td>null</td><td>null</td><td>null</td><td>null</td><td>null</td></tr><tr><td>2025-01-01 01:00:00</td><td>99.993465</td><td>-0.000065</td><td>0.0</td><td>0.0</td><td>99.993465</td><td>99.993465</td><td>0.632121</td><td>0.632121</td></tr><tr><td>2025-01-01 02:00:00</td><td>99.924112</td><td>-0.000694</td><td>0.000314</td><td>0.000628</td><td>99.908086</td><td>99.940138</td><td>0.611497</td><td>0.611497</td></tr><tr><td>2025-01-01 03:00:00</td><td>99.956111</td><td>0.00032</td><td>0.000418</td><td>0.000836</td><td>99.934798</td><td>99.977425</td><td>0.604703</td><td>0.604703</td></tr><tr><td>2025-01-01 04:00:00</td><td>100.081577</td><td>0.001254</td><td>0.000706</td><td>0.001413</td><td>100.045555</td><td>100.117599</td><td>0.585858</td><td>0.585858</td></tr><tr><td>&hellip;</td><td>&hellip;</td><td>&hellip;</td><td>&hellip;</td><td>&hellip;</td><td>&hellip;</td><td>&hellip;</td><td>&hellip;</td><td>&hellip;</td></tr><tr><td>2025-12-31 20:00:00</td><td>15.641663</td><td>0.000256</td><td>0.088373</td><td>0.176745</td><td>11.134658</td><td>20.148669</td><td>1.4100e-7</td><td>1.4100e-7</td></tr><tr><td>2025-12-31 21:00:00</td><td>15.61366</td><td>-0.001792</td><td>0.088368</td><td>0.176735</td><td>11.106912</td><td>20.120408</td><td>1.4113e-7</td><td>1.4113e-7</td></tr><tr><td>2025-12-31 22:00:00</td><td>15.610055</td><td>-0.000231</td><td>0.088363</td><td>0.176725</td><td>11.103564</td><td>20.116546</td><td>1.4125e-7</td><td>1.4125e-7</td></tr><tr><td>2025-12-31 23:00:00</td><td>15.579576</td><td>-0.001954</td><td>0.088358</td><td>0.176715</td><td>11.073343</td><td>20.08581</td><td>1.4138e-7</td><td>1.4138e-7</td></tr><tr><td>2026-01-01 00:00:00</td><td>15.566631</td><td>-0.000831</td><td>0.088352</td><td>0.176705</td><td>11.060655</td><td>20.072608</td><td>1.4151e-7</td><td>1.4151e-7</td></tr></tbody></table></div>"
      ],
      "text/plain": [
       "shape: (8_761, 9)\n",
       "┌───────────┬───────────┬───────────┬───────────┬───┬───────────┬───────────┬───────────┬──────────┐\n",
       "│ timestamp ┆ fair_pric ┆ log_retur ┆ volatilit ┆ … ┆ bid       ┆ ask       ┆ prob_trad ┆ prob_tra │\n",
       "│ ---       ┆ e         ┆ n         ┆ y         ┆   ┆ ---       ┆ ---       ┆ e_bid     ┆ de_ask   │\n",
       "│ datetime[ ┆ ---       ┆ ---       ┆ ---       ┆   ┆ f64       ┆ f64       ┆ ---       ┆ ---      │\n",
       "│ μs]       ┆ f64       ┆ f64       ┆ f64       ┆   ┆           ┆           ┆ f64       ┆ f64      │\n",
       "╞═══════════╪═══════════╪═══════════╪═══════════╪═══╪═══════════╪═══════════╪═══════════╪══════════╡\n",
       "│ 2025-01-0 ┆ 100.0     ┆ null      ┆ null      ┆ … ┆ null      ┆ null      ┆ null      ┆ null     │\n",
       "│ 1         ┆           ┆           ┆           ┆   ┆           ┆           ┆           ┆          │\n",
       "│ 00:00:00  ┆           ┆           ┆           ┆   ┆           ┆           ┆           ┆          │\n",
       "│ 2025-01-0 ┆ 99.993465 ┆ -0.000065 ┆ 0.0       ┆ … ┆ 99.993465 ┆ 99.993465 ┆ 0.632121  ┆ 0.632121 │\n",
       "│ 1         ┆           ┆           ┆           ┆   ┆           ┆           ┆           ┆          │\n",
       "│ 01:00:00  ┆           ┆           ┆           ┆   ┆           ┆           ┆           ┆          │\n",
       "│ 2025-01-0 ┆ 99.924112 ┆ -0.000694 ┆ 0.000314  ┆ … ┆ 99.908086 ┆ 99.940138 ┆ 0.611497  ┆ 0.611497 │\n",
       "│ 1         ┆           ┆           ┆           ┆   ┆           ┆           ┆           ┆          │\n",
       "│ 02:00:00  ┆           ┆           ┆           ┆   ┆           ┆           ┆           ┆          │\n",
       "│ 2025-01-0 ┆ 99.956111 ┆ 0.00032   ┆ 0.000418  ┆ … ┆ 99.934798 ┆ 99.977425 ┆ 0.604703  ┆ 0.604703 │\n",
       "│ 1         ┆           ┆           ┆           ┆   ┆           ┆           ┆           ┆          │\n",
       "│ 03:00:00  ┆           ┆           ┆           ┆   ┆           ┆           ┆           ┆          │\n",
       "│ 2025-01-0 ┆ 100.08157 ┆ 0.001254  ┆ 0.000706  ┆ … ┆ 100.04555 ┆ 100.11759 ┆ 0.585858  ┆ 0.585858 │\n",
       "│ 1         ┆ 7         ┆           ┆           ┆   ┆ 5         ┆ 9         ┆           ┆          │\n",
       "│ 04:00:00  ┆           ┆           ┆           ┆   ┆           ┆           ┆           ┆          │\n",
       "│ …         ┆ …         ┆ …         ┆ …         ┆ … ┆ …         ┆ …         ┆ …         ┆ …        │\n",
       "│ 2025-12-3 ┆ 15.641663 ┆ 0.000256  ┆ 0.088373  ┆ … ┆ 11.134658 ┆ 20.148669 ┆ 1.4100e-7 ┆ 1.4100e- │\n",
       "│ 1         ┆           ┆           ┆           ┆   ┆           ┆           ┆           ┆ 7        │\n",
       "│ 20:00:00  ┆           ┆           ┆           ┆   ┆           ┆           ┆           ┆          │\n",
       "│ 2025-12-3 ┆ 15.61366  ┆ -0.001792 ┆ 0.088368  ┆ … ┆ 11.106912 ┆ 20.120408 ┆ 1.4113e-7 ┆ 1.4113e- │\n",
       "│ 1         ┆           ┆           ┆           ┆   ┆           ┆           ┆           ┆ 7        │\n",
       "│ 21:00:00  ┆           ┆           ┆           ┆   ┆           ┆           ┆           ┆          │\n",
       "│ 2025-12-3 ┆ 15.610055 ┆ -0.000231 ┆ 0.088363  ┆ … ┆ 11.103564 ┆ 20.116546 ┆ 1.4125e-7 ┆ 1.4125e- │\n",
       "│ 1         ┆           ┆           ┆           ┆   ┆           ┆           ┆           ┆ 7        │\n",
       "│ 22:00:00  ┆           ┆           ┆           ┆   ┆           ┆           ┆           ┆          │\n",
       "│ 2025-12-3 ┆ 15.579576 ┆ -0.001954 ┆ 0.088358  ┆ … ┆ 11.073343 ┆ 20.08581  ┆ 1.4138e-7 ┆ 1.4138e- │\n",
       "│ 1         ┆           ┆           ┆           ┆   ┆           ┆           ┆           ┆ 7        │\n",
       "│ 23:00:00  ┆           ┆           ┆           ┆   ┆           ┆           ┆           ┆          │\n",
       "│ 2026-01-0 ┆ 15.566631 ┆ -0.000831 ┆ 0.088352  ┆ … ┆ 11.060655 ┆ 20.072608 ┆ 1.4151e-7 ┆ 1.4151e- │\n",
       "│ 1         ┆           ┆           ┆           ┆   ┆           ┆           ┆           ┆ 7        │\n",
       "│ 00:00:00  ┆           ┆           ┆           ┆   ┆           ┆           ┆           ┆          │\n",
       "└───────────┴───────────┴───────────┴───────────┴───┴───────────┴───────────┴───────────┴──────────┘"
      ]
     },
     "execution_count": 230,
     "metadata": {},
     "output_type": "execute_result"
    }
   ],
   "source": [
    "utl.generate_market_order(historical_bid_ask)\n"
   ]
  },
  {
   "cell_type": "markdown",
   "metadata": {},
   "source": [
    "Question for teacher : what is the economic reality behind these models / what are some good papers explaining these choices\n",
    "- for a currency, going to 0.01 for a few months and then 50 months later is not realistic / signifies huge macroeconomic events\n",
    "- what are some papers indicating which parameters make sense in this context"
   ]
  },
  {
   "cell_type": "markdown",
   "metadata": {},
   "source": [
    "## Question 2 : Order book"
   ]
  },
  {
   "cell_type": "code",
   "execution_count": 231,
   "metadata": {},
   "outputs": [
    {
     "name": "stdout",
     "output_type": "stream",
     "text": [
      "Best Bid: (101.0, 15.0, datetime.time(19, 28, 27, 587082), False)\n",
      "Best Ask: (102.0, 5.0, datetime.time(19, 28, 27, 587955), False)\n",
      "Order Book:\n",
      " shape: (3, 8)\n",
      "┌────────────┬─────────────────┬──────────┬───────┬───────┬──────────┬────────────────┬────────────┐\n",
      "│ client_bid ┆ timestamp_bid   ┆ size_bid ┆ bid   ┆ ask   ┆ size_ask ┆ timestamp_ask  ┆ client_ask │\n",
      "│ ---        ┆ ---             ┆ ---      ┆ ---   ┆ ---   ┆ ---      ┆ ---            ┆ ---        │\n",
      "│ bool       ┆ time            ┆ f64      ┆ f64   ┆ f64   ┆ f64      ┆ time           ┆ bool       │\n",
      "╞════════════╪═════════════════╪══════════╪═══════╪═══════╪══════════╪════════════════╪════════════╡\n",
      "│ false      ┆ 19:28:27.587082 ┆ 15.0     ┆ 101.0 ┆ 102.0 ┆ 5.0      ┆ 19:28:27.58795 ┆ false      │\n",
      "│            ┆                 ┆          ┆       ┆       ┆          ┆ 5              ┆            │\n",
      "│ false      ┆ 19:28:27.586128 ┆ 10.0     ┆ 100.5 ┆ 102.5 ┆ 20.0     ┆ 19:28:27.58835 ┆ false      │\n",
      "│            ┆                 ┆          ┆       ┆       ┆          ┆ 0              ┆            │\n",
      "│ null       ┆ null            ┆ null     ┆ null  ┆ 103.0 ┆ 8.0      ┆ 19:28:27.58904 ┆ false      │\n",
      "│            ┆                 ┆          ┆       ┆       ┆          ┆ 9              ┆            │\n",
      "└────────────┴─────────────────┴──────────┴───────┴───────┴──────────┴────────────────┴────────────┘\n"
     ]
    }
   ],
   "source": [
    "# Example Usage\n",
    "order_book = OrderBook(n_levels=5)\n",
    "order_book.update_order(price=100.5, size=10, side=\"bid\")\n",
    "order_book.update_order(price=101.0, size=15, side=\"bid\")\n",
    "order_book.update_order(price=102.0, size=5, side=\"ask\")\n",
    "order_book.update_order(price=102.5, size=20, side=\"ask\")\n",
    "order_book.update_order(price=103.0, size=8, side=\"ask\")\n",
    "\n",
    "print(\"Best Bid:\", order_book.get_best_bid())  # (101.0, 15)\n",
    "print(\"Best Ask:\", order_book.get_best_ask())  # (102.0, 5)\n",
    "print(\"Order Book:\\n\", order_book.get_order_book())"
   ]
  },
  {
   "cell_type": "markdown",
   "metadata": {},
   "source": [
    "## Question 4 : Trade logic"
   ]
  },
  {
   "cell_type": "code",
   "execution_count": 232,
   "metadata": {},
   "outputs": [],
   "source": [
    "trade = Trade(26, \"buy\")"
   ]
  },
  {
   "cell_type": "code",
   "execution_count": 233,
   "metadata": {},
   "outputs": [
    {
     "data": {
      "text/html": [
       "<div><style>\n",
       ".dataframe > thead > tr,\n",
       ".dataframe > tbody > tr {\n",
       "  text-align: right;\n",
       "  white-space: pre-wrap;\n",
       "}\n",
       "</style>\n",
       "<small>shape: (3, 8)</small><table border=\"1\" class=\"dataframe\"><thead><tr><th>client_bid</th><th>timestamp_bid</th><th>size_bid</th><th>bid</th><th>ask</th><th>size_ask</th><th>timestamp_ask</th><th>client_ask</th></tr><tr><td>bool</td><td>time</td><td>f64</td><td>f64</td><td>f64</td><td>f64</td><td>time</td><td>bool</td></tr></thead><tbody><tr><td>false</td><td>19:28:27.587082</td><td>15.0</td><td>101.0</td><td>102.0</td><td>5.0</td><td>19:28:27.587955</td><td>false</td></tr><tr><td>false</td><td>19:28:27.586128</td><td>10.0</td><td>100.5</td><td>102.5</td><td>20.0</td><td>19:28:27.588350</td><td>false</td></tr><tr><td>null</td><td>null</td><td>null</td><td>null</td><td>103.0</td><td>8.0</td><td>19:28:27.589049</td><td>false</td></tr></tbody></table></div>"
      ],
      "text/plain": [
       "shape: (3, 8)\n",
       "┌────────────┬─────────────────┬──────────┬───────┬───────┬──────────┬────────────────┬────────────┐\n",
       "│ client_bid ┆ timestamp_bid   ┆ size_bid ┆ bid   ┆ ask   ┆ size_ask ┆ timestamp_ask  ┆ client_ask │\n",
       "│ ---        ┆ ---             ┆ ---      ┆ ---   ┆ ---   ┆ ---      ┆ ---            ┆ ---        │\n",
       "│ bool       ┆ time            ┆ f64      ┆ f64   ┆ f64   ┆ f64      ┆ time           ┆ bool       │\n",
       "╞════════════╪═════════════════╪══════════╪═══════╪═══════╪══════════╪════════════════╪════════════╡\n",
       "│ false      ┆ 19:28:27.587082 ┆ 15.0     ┆ 101.0 ┆ 102.0 ┆ 5.0      ┆ 19:28:27.58795 ┆ false      │\n",
       "│            ┆                 ┆          ┆       ┆       ┆          ┆ 5              ┆            │\n",
       "│ false      ┆ 19:28:27.586128 ┆ 10.0     ┆ 100.5 ┆ 102.5 ┆ 20.0     ┆ 19:28:27.58835 ┆ false      │\n",
       "│            ┆                 ┆          ┆       ┆       ┆          ┆ 0              ┆            │\n",
       "│ null       ┆ null            ┆ null     ┆ null  ┆ 103.0 ┆ 8.0      ┆ 19:28:27.58904 ┆ false      │\n",
       "│            ┆                 ┆          ┆       ┆       ┆          ┆ 9              ┆            │\n",
       "└────────────┴─────────────────┴──────────┴───────┴───────┴──────────┴────────────────┴────────────┘"
      ]
     },
     "execution_count": 233,
     "metadata": {},
     "output_type": "execute_result"
    }
   ],
   "source": [
    "order_book.get_order_book()"
   ]
  },
  {
   "cell_type": "code",
   "execution_count": 234,
   "metadata": {},
   "outputs": [],
   "source": [
    "ob = trade.update_orderbook_with_trade(orderbook=order_book)"
   ]
  },
  {
   "cell_type": "code",
   "execution_count": 235,
   "metadata": {},
   "outputs": [
    {
     "data": {
      "text/html": [
       "<div><style>\n",
       ".dataframe > thead > tr,\n",
       ".dataframe > tbody > tr {\n",
       "  text-align: right;\n",
       "  white-space: pre-wrap;\n",
       "}\n",
       "</style>\n",
       "<small>shape: (2, 8)</small><table border=\"1\" class=\"dataframe\"><thead><tr><th>client_bid</th><th>timestamp_bid</th><th>size_bid</th><th>bid</th><th>ask</th><th>size_ask</th><th>timestamp_ask</th><th>client_ask</th></tr><tr><td>bool</td><td>time</td><td>f64</td><td>f64</td><td>f64</td><td>f64</td><td>time</td><td>bool</td></tr></thead><tbody><tr><td>false</td><td>19:28:27.587082</td><td>15.0</td><td>101.0</td><td>103.0</td><td>7.0</td><td>19:28:27.648679</td><td>false</td></tr><tr><td>false</td><td>19:28:27.586128</td><td>10.0</td><td>100.5</td><td>null</td><td>null</td><td>null</td><td>null</td></tr></tbody></table></div>"
      ],
      "text/plain": [
       "shape: (2, 8)\n",
       "┌────────────┬─────────────────┬──────────┬───────┬───────┬──────────┬────────────────┬────────────┐\n",
       "│ client_bid ┆ timestamp_bid   ┆ size_bid ┆ bid   ┆ ask   ┆ size_ask ┆ timestamp_ask  ┆ client_ask │\n",
       "│ ---        ┆ ---             ┆ ---      ┆ ---   ┆ ---   ┆ ---      ┆ ---            ┆ ---        │\n",
       "│ bool       ┆ time            ┆ f64      ┆ f64   ┆ f64   ┆ f64      ┆ time           ┆ bool       │\n",
       "╞════════════╪═════════════════╪══════════╪═══════╪═══════╪══════════╪════════════════╪════════════╡\n",
       "│ false      ┆ 19:28:27.587082 ┆ 15.0     ┆ 101.0 ┆ 103.0 ┆ 7.0      ┆ 19:28:27.64867 ┆ false      │\n",
       "│            ┆                 ┆          ┆       ┆       ┆          ┆ 9              ┆            │\n",
       "│ false      ┆ 19:28:27.586128 ┆ 10.0     ┆ 100.5 ┆ null  ┆ null     ┆ null           ┆ null       │\n",
       "└────────────┴─────────────────┴──────────┴───────┴───────┴──────────┴────────────────┴────────────┘"
      ]
     },
     "execution_count": 235,
     "metadata": {},
     "output_type": "execute_result"
    }
   ],
   "source": [
    "ob.get_order_book()"
   ]
  },
  {
   "cell_type": "code",
   "execution_count": 236,
   "metadata": {},
   "outputs": [
    {
     "ename": "AttributeError",
     "evalue": "'Trade' object has no attribute 'history'",
     "output_type": "error",
     "traceback": [
      "\u001b[31m---------------------------------------------------------------------------\u001b[39m",
      "\u001b[31mAttributeError\u001b[39m                            Traceback (most recent call last)",
      "\u001b[36mCell\u001b[39m\u001b[36m \u001b[39m\u001b[32mIn[236]\u001b[39m\u001b[32m, line 1\u001b[39m\n\u001b[32m----> \u001b[39m\u001b[32m1\u001b[39m pl.DataFrame(\u001b[43mtrade\u001b[49m\u001b[43m.\u001b[49m\u001b[43mhistory\u001b[49m)\n",
      "\u001b[31mAttributeError\u001b[39m: 'Trade' object has no attribute 'history'"
     ]
    }
   ],
   "source": [
    "pl.DataFrame(trade.history)"
   ]
  },
  {
   "cell_type": "markdown",
   "metadata": {},
   "source": []
  },
  {
   "cell_type": "code",
   "execution_count": null,
   "metadata": {},
   "outputs": [
    {
     "data": {
      "text/html": [
       "<div><style>\n",
       ".dataframe > thead > tr,\n",
       ".dataframe > tbody > tr {\n",
       "  text-align: right;\n",
       "  white-space: pre-wrap;\n",
       "}\n",
       "</style>\n",
       "<small>shape: (5, 3)</small><table border=\"1\" class=\"dataframe\"><thead><tr><th>timestamp</th><th>pnl</th><th>inventory</th></tr><tr><td>datetime[μs]</td><td>f64</td><td>f64</td></tr></thead><tbody><tr><td>2025-04-15 21:48:52.707322</td><td>0.0</td><td>1e7</td></tr><tr><td>2025-04-15 21:48:52.707322</td><td>74.508623</td><td>9.999999e6</td></tr><tr><td>2025-04-15 21:48:52.707324</td><td>148.517247</td><td>9.999998e6</td></tr><tr><td>2025-04-15 21:48:52.707325</td><td>222.02587</td><td>9.999997e6</td></tr><tr><td>2025-04-15 21:48:52.707325</td><td>222.02587</td><td>9.999997e6</td></tr></tbody></table></div>"
      ],
      "text/plain": [
       "shape: (5, 3)\n",
       "┌────────────────────────────┬────────────┬────────────┐\n",
       "│ timestamp                  ┆ pnl        ┆ inventory  │\n",
       "│ ---                        ┆ ---        ┆ ---        │\n",
       "│ datetime[μs]               ┆ f64        ┆ f64        │\n",
       "╞════════════════════════════╪════════════╪════════════╡\n",
       "│ 2025-04-15 21:48:52.707322 ┆ 0.0        ┆ 1e7        │\n",
       "│ 2025-04-15 21:48:52.707322 ┆ 74.508623  ┆ 9.999999e6 │\n",
       "│ 2025-04-15 21:48:52.707324 ┆ 148.517247 ┆ 9.999998e6 │\n",
       "│ 2025-04-15 21:48:52.707325 ┆ 222.02587  ┆ 9.999997e6 │\n",
       "│ 2025-04-15 21:48:52.707325 ┆ 222.02587  ┆ 9.999997e6 │\n",
       "└────────────────────────────┴────────────┴────────────┘"
      ]
     },
     "execution_count": 9,
     "metadata": {},
     "output_type": "execute_result"
    }
   ],
   "source": [
    "track_pnl(simulate_fair_price(), pl.DataFrame(trade.history), 10_000_000)"
   ]
  }
 ],
 "metadata": {
  "kernelspec": {
   "display_name": "elecmktprjct",
   "language": "python",
   "name": "python3"
  },
  "language_info": {
   "codemirror_mode": {
    "name": "ipython",
    "version": 3
   },
   "file_extension": ".py",
   "mimetype": "text/x-python",
   "name": "python",
   "nbconvert_exporter": "python",
   "pygments_lexer": "ipython3",
   "version": "3.11.11"
  }
 },
 "nbformat": 4,
 "nbformat_minor": 2
}
