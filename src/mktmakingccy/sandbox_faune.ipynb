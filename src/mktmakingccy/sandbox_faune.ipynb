{
 "cells": [
  {
   "cell_type": "code",
   "execution_count": 26,
   "metadata": {},
   "outputs": [],
   "source": [
    "import utils\n",
    "from order_book import OrderBook\n",
    "from trade import Trade, TradeHistory, history\n",
    "\n",
    "import plotly.express as px\n",
    "import polars as pl\n",
    "import numpy as np"
   ]
  },
  {
   "cell_type": "code",
   "execution_count": 2,
   "metadata": {},
   "outputs": [
    {
     "data": {
      "text/plain": [
       "[]"
      ]
     },
     "execution_count": 2,
     "metadata": {},
     "output_type": "execute_result"
    }
   ],
   "source": [
    "history.trades"
   ]
  },
  {
   "cell_type": "markdown",
   "metadata": {},
   "source": [
    "## Question 1 : simulating fair prices"
   ]
  },
  {
   "cell_type": "code",
   "execution_count": 3,
   "metadata": {},
   "outputs": [],
   "source": [
    "# px.line(simulate_fair_price().to_pandas().set_index('Timestamp'))"
   ]
  },
  {
   "cell_type": "markdown",
   "metadata": {},
   "source": [
    "Question for teacher : what is the economic reality behind these models / what are some good papers explaining these choices\n",
    "- for a currency, going to 0.01 for a few months and then 50 months later is not realistic / signifies huge macroeconomic events\n",
    "- what are some papers indicating which parameters make sense in this context"
   ]
  },
  {
   "cell_type": "markdown",
   "metadata": {},
   "source": [
    "## Question 2 : Order book"
   ]
  },
  {
   "cell_type": "code",
   "execution_count": 4,
   "metadata": {},
   "outputs": [
    {
     "name": "stdout",
     "output_type": "stream",
     "text": [
      "Best Bid: (101.0, 15.0, datetime.time(8, 6, 41, 69850), False)\n",
      "Best Ask: (102.0, 5.0, datetime.time(8, 6, 41, 75588), False)\n",
      "Order Book:\n",
      " shape: (3, 8)\n",
      "┌────────────┬─────────────────┬──────────┬───────┬───────┬──────────┬────────────────┬────────────┐\n",
      "│ client_bid ┆ timestamp_bid   ┆ size_bid ┆ bid   ┆ ask   ┆ size_ask ┆ timestamp_ask  ┆ client_ask │\n",
      "│ ---        ┆ ---             ┆ ---      ┆ ---   ┆ ---   ┆ ---      ┆ ---            ┆ ---        │\n",
      "│ bool       ┆ time            ┆ f64      ┆ f64   ┆ f64   ┆ f64      ┆ time           ┆ bool       │\n",
      "╞════════════╪═════════════════╪══════════╪═══════╪═══════╪══════════╪════════════════╪════════════╡\n",
      "│ false      ┆ 08:06:41.069850 ┆ 15.0     ┆ 101.0 ┆ 102.0 ┆ 5.0      ┆ 08:06:41.07558 ┆ false      │\n",
      "│            ┆                 ┆          ┆       ┆       ┆          ┆ 8              ┆            │\n",
      "│ false      ┆ 08:06:40.975460 ┆ 10.0     ┆ 100.5 ┆ 102.5 ┆ 20.0     ┆ 08:06:41.07656 ┆ false      │\n",
      "│            ┆                 ┆          ┆       ┆       ┆          ┆ 2              ┆            │\n",
      "│ null       ┆ null            ┆ null     ┆ null  ┆ 103.0 ┆ 8.0      ┆ 08:06:41.07776 ┆ false      │\n",
      "│            ┆                 ┆          ┆       ┆       ┆          ┆ 1              ┆            │\n",
      "└────────────┴─────────────────┴──────────┴───────┴───────┴──────────┴────────────────┴────────────┘\n"
     ]
    }
   ],
   "source": [
    "# Example Usage\n",
    "order_book = OrderBook(n_levels=5)\n",
    "order_book.update_order(price=100.5, size=10, side=\"bid\")\n",
    "order_book.update_order(price=101.0, size=15, side=\"bid\")\n",
    "order_book.update_order(price=102.0, size=5, side=\"ask\")\n",
    "order_book.update_order(price=102.5, size=20, side=\"ask\")\n",
    "order_book.update_order(price=103.0, size=8, side=\"ask\")\n",
    "\n",
    "print(\"Best Bid:\", order_book.get_best_bid())  # (101.0, 15)\n",
    "print(\"Best Ask:\", order_book.get_best_ask())  # (102.0, 5)\n",
    "print(\"Order Book:\\n\", order_book.get_order_book())"
   ]
  },
  {
   "cell_type": "code",
   "execution_count": 5,
   "metadata": {},
   "outputs": [
    {
     "data": {
      "text/plain": [
       "(100.5, 10.0, datetime.time(8, 6, 40, 975460), False)"
      ]
     },
     "execution_count": 5,
     "metadata": {},
     "output_type": "execute_result"
    }
   ],
   "source": [
    "order_book.bids.bottom_k(k=1, by='bid').row(index=0) #gives us the worst available bid"
   ]
  },
  {
   "cell_type": "code",
   "execution_count": 6,
   "metadata": {},
   "outputs": [],
   "source": [
    "order_book.delete_order(price=102.0, size=5, side='ask')"
   ]
  },
  {
   "cell_type": "markdown",
   "metadata": {},
   "source": [
    "## Question 4 : Trade logic"
   ]
  },
  {
   "cell_type": "code",
   "execution_count": 7,
   "metadata": {},
   "outputs": [],
   "source": [
    "trade = Trade(26, \"buy\")"
   ]
  },
  {
   "cell_type": "code",
   "execution_count": 10,
   "metadata": {},
   "outputs": [
    {
     "data": {
      "text/html": [
       "<div><style>\n",
       ".dataframe > thead > tr,\n",
       ".dataframe > tbody > tr {\n",
       "  text-align: right;\n",
       "  white-space: pre-wrap;\n",
       "}\n",
       "</style>\n",
       "<small>shape: (2, 8)</small><table border=\"1\" class=\"dataframe\"><thead><tr><th>client_bid</th><th>timestamp_bid</th><th>size_bid</th><th>bid</th><th>ask</th><th>size_ask</th><th>timestamp_ask</th><th>client_ask</th></tr><tr><td>bool</td><td>time</td><td>f64</td><td>f64</td><td>f64</td><td>f64</td><td>time</td><td>bool</td></tr></thead><tbody><tr><td>false</td><td>08:06:41.069850</td><td>15.0</td><td>101.0</td><td>102.5</td><td>20.0</td><td>08:06:41.076562</td><td>false</td></tr><tr><td>false</td><td>08:06:40.975460</td><td>10.0</td><td>100.5</td><td>103.0</td><td>8.0</td><td>08:06:41.077761</td><td>false</td></tr></tbody></table></div>"
      ],
      "text/plain": [
       "shape: (2, 8)\n",
       "┌────────────┬─────────────────┬──────────┬───────┬───────┬──────────┬────────────────┬────────────┐\n",
       "│ client_bid ┆ timestamp_bid   ┆ size_bid ┆ bid   ┆ ask   ┆ size_ask ┆ timestamp_ask  ┆ client_ask │\n",
       "│ ---        ┆ ---             ┆ ---      ┆ ---   ┆ ---   ┆ ---      ┆ ---            ┆ ---        │\n",
       "│ bool       ┆ time            ┆ f64      ┆ f64   ┆ f64   ┆ f64      ┆ time           ┆ bool       │\n",
       "╞════════════╪═════════════════╪══════════╪═══════╪═══════╪══════════╪════════════════╪════════════╡\n",
       "│ false      ┆ 08:06:41.069850 ┆ 15.0     ┆ 101.0 ┆ 102.5 ┆ 20.0     ┆ 08:06:41.07656 ┆ false      │\n",
       "│            ┆                 ┆          ┆       ┆       ┆          ┆ 2              ┆            │\n",
       "│ false      ┆ 08:06:40.975460 ┆ 10.0     ┆ 100.5 ┆ 103.0 ┆ 8.0      ┆ 08:06:41.07776 ┆ false      │\n",
       "│            ┆                 ┆          ┆       ┆       ┆          ┆ 1              ┆            │\n",
       "└────────────┴─────────────────┴──────────┴───────┴───────┴──────────┴────────────────┴────────────┘"
      ]
     },
     "execution_count": 10,
     "metadata": {},
     "output_type": "execute_result"
    }
   ],
   "source": [
    "order_book.get_order_book()"
   ]
  },
  {
   "cell_type": "code",
   "execution_count": 11,
   "metadata": {},
   "outputs": [],
   "source": [
    "ob = trade.update_orderbook_with_trade(orderbook=order_book)"
   ]
  },
  {
   "cell_type": "code",
   "execution_count": 12,
   "metadata": {},
   "outputs": [
    {
     "data": {
      "text/html": [
       "<div><style>\n",
       ".dataframe > thead > tr,\n",
       ".dataframe > tbody > tr {\n",
       "  text-align: right;\n",
       "  white-space: pre-wrap;\n",
       "}\n",
       "</style>\n",
       "<small>shape: (2, 8)</small><table border=\"1\" class=\"dataframe\"><thead><tr><th>client_bid</th><th>timestamp_bid</th><th>size_bid</th><th>bid</th><th>ask</th><th>size_ask</th><th>timestamp_ask</th><th>client_ask</th></tr><tr><td>bool</td><td>time</td><td>f64</td><td>f64</td><td>f64</td><td>f64</td><td>time</td><td>bool</td></tr></thead><tbody><tr><td>false</td><td>08:06:41.069850</td><td>15.0</td><td>101.0</td><td>103.0</td><td>2.0</td><td>08:08:59.880288</td><td>false</td></tr><tr><td>false</td><td>08:06:40.975460</td><td>10.0</td><td>100.5</td><td>null</td><td>null</td><td>null</td><td>null</td></tr></tbody></table></div>"
      ],
      "text/plain": [
       "shape: (2, 8)\n",
       "┌────────────┬─────────────────┬──────────┬───────┬───────┬──────────┬────────────────┬────────────┐\n",
       "│ client_bid ┆ timestamp_bid   ┆ size_bid ┆ bid   ┆ ask   ┆ size_ask ┆ timestamp_ask  ┆ client_ask │\n",
       "│ ---        ┆ ---             ┆ ---      ┆ ---   ┆ ---   ┆ ---      ┆ ---            ┆ ---        │\n",
       "│ bool       ┆ time            ┆ f64      ┆ f64   ┆ f64   ┆ f64      ┆ time           ┆ bool       │\n",
       "╞════════════╪═════════════════╪══════════╪═══════╪═══════╪══════════╪════════════════╪════════════╡\n",
       "│ false      ┆ 08:06:41.069850 ┆ 15.0     ┆ 101.0 ┆ 103.0 ┆ 2.0      ┆ 08:08:59.88028 ┆ false      │\n",
       "│            ┆                 ┆          ┆       ┆       ┆          ┆ 8              ┆            │\n",
       "│ false      ┆ 08:06:40.975460 ┆ 10.0     ┆ 100.5 ┆ null  ┆ null     ┆ null           ┆ null       │\n",
       "└────────────┴─────────────────┴──────────┴───────┴───────┴──────────┴────────────────┴────────────┘"
      ]
     },
     "execution_count": 12,
     "metadata": {},
     "output_type": "execute_result"
    }
   ],
   "source": [
    "ob.get_order_book()"
   ]
  },
  {
   "cell_type": "code",
   "execution_count": 24,
   "metadata": {},
   "outputs": [
    {
     "data": {
      "text/html": [
       "<div><style>\n",
       ".dataframe > thead > tr,\n",
       ".dataframe > tbody > tr {\n",
       "  text-align: right;\n",
       "  white-space: pre-wrap;\n",
       "}\n",
       "</style>\n",
       "<small>shape: (2, 5)</small><table border=\"1\" class=\"dataframe\"><thead><tr><th>timestamp</th><th>side</th><th>price</th><th>size</th><th>client</th></tr><tr><td>datetime[μs]</td><td>str</td><td>f64</td><td>f64</td><td>bool</td></tr></thead><tbody><tr><td>2025-04-19 08:08:59.880288</td><td>&quot;buy&quot;</td><td>103.0</td><td>6.0</td><td>false</td></tr><tr><td>2025-04-19 08:08:59.880288</td><td>&quot;buy&quot;</td><td>102.5</td><td>6.0</td><td>false</td></tr></tbody></table></div>"
      ],
      "text/plain": [
       "shape: (2, 5)\n",
       "┌────────────────────────────┬──────┬───────┬──────┬────────┐\n",
       "│ timestamp                  ┆ side ┆ price ┆ size ┆ client │\n",
       "│ ---                        ┆ ---  ┆ ---   ┆ ---  ┆ ---    │\n",
       "│ datetime[μs]               ┆ str  ┆ f64   ┆ f64  ┆ bool   │\n",
       "╞════════════════════════════╪══════╪═══════╪══════╪════════╡\n",
       "│ 2025-04-19 08:08:59.880288 ┆ buy  ┆ 103.0 ┆ 6.0  ┆ false  │\n",
       "│ 2025-04-19 08:08:59.880288 ┆ buy  ┆ 102.5 ┆ 6.0  ┆ false  │\n",
       "└────────────────────────────┴──────┴───────┴──────┴────────┘"
      ]
     },
     "execution_count": 24,
     "metadata": {},
     "output_type": "execute_result"
    }
   ],
   "source": [
    "from datetime import date\n",
    "pl.DataFrame(history.trades).filter(pl.col('timestamp').dt.date().eq(date.today()))"
   ]
  },
  {
   "cell_type": "code",
   "execution_count": 15,
   "metadata": {},
   "outputs": [],
   "source": [
    "from values import VOLUME_LIST"
   ]
  },
  {
   "cell_type": "code",
   "execution_count": 18,
   "metadata": {},
   "outputs": [
    {
     "data": {
      "text/plain": [
       "10000000"
      ]
     },
     "execution_count": 18,
     "metadata": {},
     "output_type": "execute_result"
    }
   ],
   "source": [
    "sum(VOLUME_LIST)"
   ]
  },
  {
   "cell_type": "code",
   "execution_count": 29,
   "metadata": {},
   "outputs": [],
   "source": [
    "bid_asks = utils.compute_all_bid_ask(historical_fair_price=utils.simulate_fair_price(), volume=sum(VOLUME_LIST))"
   ]
  },
  {
   "cell_type": "code",
   "execution_count": 31,
   "metadata": {},
   "outputs": [
    {
     "data": {
      "text/html": [
       "<div><style>\n",
       ".dataframe > thead > tr,\n",
       ".dataframe > tbody > tr {\n",
       "  text-align: right;\n",
       "  white-space: pre-wrap;\n",
       "}\n",
       "</style>\n",
       "<small>shape: (8_761, 8)</small><table border=\"1\" class=\"dataframe\"><thead><tr><th>timestamp</th><th>fair_price</th><th>log_return</th><th>volatility</th><th>spread</th><th>bid</th><th>ask</th><th>orderbooks</th></tr><tr><td>datetime[μs]</td><td>f64</td><td>f64</td><td>f64</td><td>f64</td><td>f64</td><td>f64</td><td>object</td></tr></thead><tbody><tr><td>2025-01-01 00:00:00</td><td>100.0</td><td>null</td><td>null</td><td>null</td><td>null</td><td>null</td><td>&lt;order_book.OrderBook object at 0x0000023AE552CC10&gt;</td></tr><tr><td>2025-01-01 01:00:00</td><td>100.151337</td><td>0.001512</td><td>0.0</td><td>0.0</td><td>100.151337</td><td>100.151337</td><td>&lt;order_book.OrderBook object at 0x0000023AE552CC10&gt;</td></tr><tr><td>2025-01-01 02:00:00</td><td>100.119779</td><td>-0.000315</td><td>0.000914</td><td>0.001827</td><td>100.117951</td><td>100.121606</td><td>&lt;order_book.OrderBook object at 0x0000023AE552CC10&gt;</td></tr><tr><td>2025-01-01 03:00:00</td><td>100.009353</td><td>-0.001104</td><td>0.001096</td><td>0.002191</td><td>100.007162</td><td>100.011544</td><td>&lt;order_book.OrderBook object at 0x0000023AE552CC10&gt;</td></tr><tr><td>2025-01-01 04:00:00</td><td>99.833615</td><td>-0.001759</td><td>0.001225</td><td>0.00245</td><td>99.831165</td><td>99.836066</td><td>&lt;order_book.OrderBook object at 0x0000023AE552CC10&gt;</td></tr><tr><td>&hellip;</td><td>&hellip;</td><td>&hellip;</td><td>&hellip;</td><td>&hellip;</td><td>&hellip;</td><td>&hellip;</td><td>&hellip;</td></tr><tr><td>2025-12-31 20:00:00</td><td>222.526111</td><td>0.000371</td><td>0.001064</td><td>0.002128</td><td>222.523983</td><td>222.528239</td><td>&lt;order_book.OrderBook object at 0x0000023AE552CC10&gt;</td></tr><tr><td>2025-12-31 21:00:00</td><td>222.470272</td><td>-0.000251</td><td>0.001064</td><td>0.002128</td><td>222.468145</td><td>222.4724</td><td>&lt;order_book.OrderBook object at 0x0000023AE552CC10&gt;</td></tr><tr><td>2025-12-31 22:00:00</td><td>222.086466</td><td>-0.001727</td><td>0.001064</td><td>0.002128</td><td>222.084338</td><td>222.088594</td><td>&lt;order_book.OrderBook object at 0x0000023AE552CC10&gt;</td></tr><tr><td>2025-12-31 23:00:00</td><td>222.024531</td><td>-0.000279</td><td>0.001064</td><td>0.002128</td><td>222.022403</td><td>222.026659</td><td>&lt;order_book.OrderBook object at 0x0000023AE552CC10&gt;</td></tr><tr><td>2026-01-01 00:00:00</td><td>221.889806</td><td>-0.000607</td><td>0.001064</td><td>0.002128</td><td>221.887679</td><td>221.891934</td><td>&lt;order_book.OrderBook object at 0x0000023AE552CC10&gt;</td></tr></tbody></table></div>"
      ],
      "text/plain": [
       "shape: (8_761, 8)\n",
       "┌────────────┬────────────┬────────────┬────────────┬──────────┬───────────┬───────────┬───────────┐\n",
       "│ timestamp  ┆ fair_price ┆ log_return ┆ volatility ┆ spread   ┆ bid       ┆ ask       ┆ orderbook │\n",
       "│ ---        ┆ ---        ┆ ---        ┆ ---        ┆ ---      ┆ ---       ┆ ---       ┆ s         │\n",
       "│ datetime[μ ┆ f64        ┆ f64        ┆ f64        ┆ f64      ┆ f64       ┆ f64       ┆ ---       │\n",
       "│ s]         ┆            ┆            ┆            ┆          ┆           ┆           ┆ object    │\n",
       "╞════════════╪════════════╪════════════╪════════════╪══════════╪═══════════╪═══════════╪═══════════╡\n",
       "│ 2025-01-01 ┆ 100.0      ┆ null       ┆ null       ┆ null     ┆ null      ┆ null      ┆ <order_bo │\n",
       "│ 00:00:00   ┆            ┆            ┆            ┆          ┆           ┆           ┆ ok.OrderB │\n",
       "│            ┆            ┆            ┆            ┆          ┆           ┆           ┆ ook       │\n",
       "│            ┆            ┆            ┆            ┆          ┆           ┆           ┆ object a… │\n",
       "│ 2025-01-01 ┆ 100.151337 ┆ 0.001512   ┆ 0.0        ┆ 0.0      ┆ 100.15133 ┆ 100.15133 ┆ <order_bo │\n",
       "│ 01:00:00   ┆            ┆            ┆            ┆          ┆ 7         ┆ 7         ┆ ok.OrderB │\n",
       "│            ┆            ┆            ┆            ┆          ┆           ┆           ┆ ook       │\n",
       "│            ┆            ┆            ┆            ┆          ┆           ┆           ┆ object a… │\n",
       "│ 2025-01-01 ┆ 100.119779 ┆ -0.000315  ┆ 0.000914   ┆ 0.001827 ┆ 100.11795 ┆ 100.12160 ┆ <order_bo │\n",
       "│ 02:00:00   ┆            ┆            ┆            ┆          ┆ 1         ┆ 6         ┆ ok.OrderB │\n",
       "│            ┆            ┆            ┆            ┆          ┆           ┆           ┆ ook       │\n",
       "│            ┆            ┆            ┆            ┆          ┆           ┆           ┆ object a… │\n",
       "│ 2025-01-01 ┆ 100.009353 ┆ -0.001104  ┆ 0.001096   ┆ 0.002191 ┆ 100.00716 ┆ 100.01154 ┆ <order_bo │\n",
       "│ 03:00:00   ┆            ┆            ┆            ┆          ┆ 2         ┆ 4         ┆ ok.OrderB │\n",
       "│            ┆            ┆            ┆            ┆          ┆           ┆           ┆ ook       │\n",
       "│            ┆            ┆            ┆            ┆          ┆           ┆           ┆ object a… │\n",
       "│ 2025-01-01 ┆ 99.833615  ┆ -0.001759  ┆ 0.001225   ┆ 0.00245  ┆ 99.831165 ┆ 99.836066 ┆ <order_bo │\n",
       "│ 04:00:00   ┆            ┆            ┆            ┆          ┆           ┆           ┆ ok.OrderB │\n",
       "│            ┆            ┆            ┆            ┆          ┆           ┆           ┆ ook       │\n",
       "│            ┆            ┆            ┆            ┆          ┆           ┆           ┆ object a… │\n",
       "│ …          ┆ …          ┆ …          ┆ …          ┆ …        ┆ …         ┆ …         ┆ …         │\n",
       "│ 2025-12-31 ┆ 222.526111 ┆ 0.000371   ┆ 0.001064   ┆ 0.002128 ┆ 222.52398 ┆ 222.52823 ┆ <order_bo │\n",
       "│ 20:00:00   ┆            ┆            ┆            ┆          ┆ 3         ┆ 9         ┆ ok.OrderB │\n",
       "│            ┆            ┆            ┆            ┆          ┆           ┆           ┆ ook       │\n",
       "│            ┆            ┆            ┆            ┆          ┆           ┆           ┆ object a… │\n",
       "│ 2025-12-31 ┆ 222.470272 ┆ -0.000251  ┆ 0.001064   ┆ 0.002128 ┆ 222.46814 ┆ 222.4724  ┆ <order_bo │\n",
       "│ 21:00:00   ┆            ┆            ┆            ┆          ┆ 5         ┆           ┆ ok.OrderB │\n",
       "│            ┆            ┆            ┆            ┆          ┆           ┆           ┆ ook       │\n",
       "│            ┆            ┆            ┆            ┆          ┆           ┆           ┆ object a… │\n",
       "│ 2025-12-31 ┆ 222.086466 ┆ -0.001727  ┆ 0.001064   ┆ 0.002128 ┆ 222.08433 ┆ 222.08859 ┆ <order_bo │\n",
       "│ 22:00:00   ┆            ┆            ┆            ┆          ┆ 8         ┆ 4         ┆ ok.OrderB │\n",
       "│            ┆            ┆            ┆            ┆          ┆           ┆           ┆ ook       │\n",
       "│            ┆            ┆            ┆            ┆          ┆           ┆           ┆ object a… │\n",
       "│ 2025-12-31 ┆ 222.024531 ┆ -0.000279  ┆ 0.001064   ┆ 0.002128 ┆ 222.02240 ┆ 222.02665 ┆ <order_bo │\n",
       "│ 23:00:00   ┆            ┆            ┆            ┆          ┆ 3         ┆ 9         ┆ ok.OrderB │\n",
       "│            ┆            ┆            ┆            ┆          ┆           ┆           ┆ ook       │\n",
       "│            ┆            ┆            ┆            ┆          ┆           ┆           ┆ object a… │\n",
       "│ 2026-01-01 ┆ 221.889806 ┆ -0.000607  ┆ 0.001064   ┆ 0.002128 ┆ 221.88767 ┆ 221.89193 ┆ <order_bo │\n",
       "│ 00:00:00   ┆            ┆            ┆            ┆          ┆ 9         ┆ 4         ┆ ok.OrderB │\n",
       "│            ┆            ┆            ┆            ┆          ┆           ┆           ┆ ook       │\n",
       "│            ┆            ┆            ┆            ┆          ┆           ┆           ┆ object a… │\n",
       "└────────────┴────────────┴────────────┴────────────┴──────────┴───────────┴───────────┴───────────┘"
      ]
     },
     "execution_count": 31,
     "metadata": {},
     "output_type": "execute_result"
    }
   ],
   "source": [
    "bid_asks.with_columns(pl.Series(name='orderbooks', values=[OrderBook(6)]*bid_asks.height))"
   ]
  },
  {
   "cell_type": "markdown",
   "metadata": {},
   "source": []
  }
 ],
 "metadata": {
  "kernelspec": {
   "display_name": "mktmakingccy",
   "language": "python",
   "name": "python3"
  },
  "language_info": {
   "codemirror_mode": {
    "name": "ipython",
    "version": 3
   },
   "file_extension": ".py",
   "mimetype": "text/x-python",
   "name": "python",
   "nbconvert_exporter": "python",
   "pygments_lexer": "ipython3",
   "version": "3.11.11"
  }
 },
 "nbformat": 4,
 "nbformat_minor": 2
}
