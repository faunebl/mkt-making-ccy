{
 "cells": [
  {
   "cell_type": "code",
   "execution_count": 1,
   "metadata": {},
   "outputs": [],
   "source": [
    "from utils import simulate_fair_price, track_pnl\n",
    "from order_book import OrderBook\n",
    "from trade import Trade\n",
    "\n",
    "import plotly.express as px\n",
    "import polars as pl\n",
    "import numpy as np"
   ]
  },
  {
   "cell_type": "markdown",
   "metadata": {},
   "source": [
    "## Question 1 : simulating fair prices"
   ]
  },
  {
   "cell_type": "code",
   "execution_count": 2,
   "metadata": {},
   "outputs": [
    {
     "data": {
      "text/html": [
       "<div><style>\n",
       ".dataframe > thead > tr,\n",
       ".dataframe > tbody > tr {\n",
       "  text-align: right;\n",
       "  white-space: pre-wrap;\n",
       "}\n",
       "</style>\n",
       "<small>shape: (8_761, 2)</small><table border=\"1\" class=\"dataframe\"><thead><tr><th>timestamp</th><th>Fair Price</th></tr><tr><td>datetime[μs]</td><td>f64</td></tr></thead><tbody><tr><td>2025-01-01 00:00:00</td><td>1.0</td></tr><tr><td>2025-01-01 01:00:00</td><td>1.000165</td></tr><tr><td>2025-01-01 02:00:00</td><td>1.001411</td></tr><tr><td>2025-01-01 03:00:00</td><td>1.003476</td></tr><tr><td>2025-01-01 04:00:00</td><td>1.009123</td></tr><tr><td>&hellip;</td><td>&hellip;</td></tr><tr><td>2025-12-31 20:00:00</td><td>0.001</td></tr><tr><td>2025-12-31 21:00:00</td><td>0.001</td></tr><tr><td>2025-12-31 22:00:00</td><td>0.001</td></tr><tr><td>2025-12-31 23:00:00</td><td>0.001</td></tr><tr><td>2026-01-01 00:00:00</td><td>0.001</td></tr></tbody></table></div>"
      ],
      "text/plain": [
       "shape: (8_761, 2)\n",
       "┌─────────────────────┬────────────┐\n",
       "│ timestamp           ┆ Fair Price │\n",
       "│ ---                 ┆ ---        │\n",
       "│ datetime[μs]        ┆ f64        │\n",
       "╞═════════════════════╪════════════╡\n",
       "│ 2025-01-01 00:00:00 ┆ 1.0        │\n",
       "│ 2025-01-01 01:00:00 ┆ 1.000165   │\n",
       "│ 2025-01-01 02:00:00 ┆ 1.001411   │\n",
       "│ 2025-01-01 03:00:00 ┆ 1.003476   │\n",
       "│ 2025-01-01 04:00:00 ┆ 1.009123   │\n",
       "│ …                   ┆ …          │\n",
       "│ 2025-12-31 20:00:00 ┆ 0.001      │\n",
       "│ 2025-12-31 21:00:00 ┆ 0.001      │\n",
       "│ 2025-12-31 22:00:00 ┆ 0.001      │\n",
       "│ 2025-12-31 23:00:00 ┆ 0.001      │\n",
       "│ 2026-01-01 00:00:00 ┆ 0.001      │\n",
       "└─────────────────────┴────────────┘"
      ]
     },
     "execution_count": 2,
     "metadata": {},
     "output_type": "execute_result"
    }
   ],
   "source": [
    "simulate_fair_price()"
   ]
  },
  {
   "cell_type": "markdown",
   "metadata": {},
   "source": [
    "Question for teacher : what is the economic reality behind these models / what are some good papers explaining these choices\n",
    "- for a currency, going to 0.01 for a few months and then 50 months later is not realistic / signifies huge macroeconomic events\n",
    "- what are some papers indicating which parameters make sense in this context"
   ]
  },
  {
   "cell_type": "markdown",
   "metadata": {},
   "source": [
    "## Question 2 : Order book"
   ]
  },
  {
   "cell_type": "code",
   "execution_count": 3,
   "metadata": {},
   "outputs": [
    {
     "name": "stdout",
     "output_type": "stream",
     "text": [
      "Best Bid: (101.0, 15.0, datetime.time(21, 48, 52, 681498))\n",
      "Best Ask: (102.0, 5.0, datetime.time(21, 48, 52, 682470))\n",
      "Order Book:\n",
      " shape: (3, 6)\n",
      "┌─────────────────┬──────────┬───────┬───────┬──────────┬─────────────────┐\n",
      "│ timestamp_bid   ┆ size_bid ┆ bid   ┆ ask   ┆ size_ask ┆ timestamp_ask   │\n",
      "│ ---             ┆ ---      ┆ ---   ┆ ---   ┆ ---      ┆ ---             │\n",
      "│ time            ┆ f64      ┆ f64   ┆ f64   ┆ f64      ┆ time            │\n",
      "╞═════════════════╪══════════╪═══════╪═══════╪══════════╪═════════════════╡\n",
      "│ 21:48:52.681498 ┆ 15.0     ┆ 101.0 ┆ 102.0 ┆ 5.0      ┆ 21:48:52.682470 │\n",
      "│ 21:48:52.672707 ┆ 10.0     ┆ 100.5 ┆ 102.5 ┆ 20.0     ┆ 21:48:52.682849 │\n",
      "│ null            ┆ null     ┆ null  ┆ 103.0 ┆ 8.0      ┆ 21:48:52.683252 │\n",
      "└─────────────────┴──────────┴───────┴───────┴──────────┴─────────────────┘\n"
     ]
    }
   ],
   "source": [
    "# Example Usage\n",
    "order_book = OrderBook(n_levels=5)\n",
    "order_book.update_order(price=100.5, size=10, side=\"bid\")\n",
    "order_book.update_order(price=101.0, size=15, side=\"bid\")\n",
    "order_book.update_order(price=102.0, size=5, side=\"ask\")\n",
    "order_book.update_order(price=102.5, size=20, side=\"ask\")\n",
    "order_book.update_order(price=103.0, size=8, side=\"ask\")\n",
    "\n",
    "print(\"Best Bid:\", order_book.get_best_bid())  # (101.0, 15)\n",
    "print(\"Best Ask:\", order_book.get_best_ask())  # (102.0, 5)\n",
    "print(\"Order Book:\\n\", order_book.get_order_book())"
   ]
  },
  {
   "cell_type": "markdown",
   "metadata": {},
   "source": [
    "## Question 4 : Trade logic"
   ]
  },
  {
   "cell_type": "code",
   "execution_count": 4,
   "metadata": {},
   "outputs": [],
   "source": [
    "trade = Trade(26, \"buy\")"
   ]
  },
  {
   "cell_type": "code",
   "execution_count": 5,
   "metadata": {},
   "outputs": [
    {
     "data": {
      "text/html": [
       "<div><style>\n",
       ".dataframe > thead > tr,\n",
       ".dataframe > tbody > tr {\n",
       "  text-align: right;\n",
       "  white-space: pre-wrap;\n",
       "}\n",
       "</style>\n",
       "<small>shape: (3, 6)</small><table border=\"1\" class=\"dataframe\"><thead><tr><th>timestamp_bid</th><th>size_bid</th><th>bid</th><th>ask</th><th>size_ask</th><th>timestamp_ask</th></tr><tr><td>time</td><td>f64</td><td>f64</td><td>f64</td><td>f64</td><td>time</td></tr></thead><tbody><tr><td>21:48:52.681498</td><td>15.0</td><td>101.0</td><td>102.0</td><td>5.0</td><td>21:48:52.682470</td></tr><tr><td>21:48:52.672707</td><td>10.0</td><td>100.5</td><td>102.5</td><td>20.0</td><td>21:48:52.682849</td></tr><tr><td>null</td><td>null</td><td>null</td><td>103.0</td><td>8.0</td><td>21:48:52.683252</td></tr></tbody></table></div>"
      ],
      "text/plain": [
       "shape: (3, 6)\n",
       "┌─────────────────┬──────────┬───────┬───────┬──────────┬─────────────────┐\n",
       "│ timestamp_bid   ┆ size_bid ┆ bid   ┆ ask   ┆ size_ask ┆ timestamp_ask   │\n",
       "│ ---             ┆ ---      ┆ ---   ┆ ---   ┆ ---      ┆ ---             │\n",
       "│ time            ┆ f64      ┆ f64   ┆ f64   ┆ f64      ┆ time            │\n",
       "╞═════════════════╪══════════╪═══════╪═══════╪══════════╪═════════════════╡\n",
       "│ 21:48:52.681498 ┆ 15.0     ┆ 101.0 ┆ 102.0 ┆ 5.0      ┆ 21:48:52.682470 │\n",
       "│ 21:48:52.672707 ┆ 10.0     ┆ 100.5 ┆ 102.5 ┆ 20.0     ┆ 21:48:52.682849 │\n",
       "│ null            ┆ null     ┆ null  ┆ 103.0 ┆ 8.0      ┆ 21:48:52.683252 │\n",
       "└─────────────────┴──────────┴───────┴───────┴──────────┴─────────────────┘"
      ]
     },
     "execution_count": 5,
     "metadata": {},
     "output_type": "execute_result"
    }
   ],
   "source": [
    "order_book.get_order_book()"
   ]
  },
  {
   "cell_type": "code",
   "execution_count": 6,
   "metadata": {},
   "outputs": [],
   "source": [
    "ob = trade.update_orderbook_with_trade(orderbook=order_book)"
   ]
  },
  {
   "cell_type": "code",
   "execution_count": 7,
   "metadata": {},
   "outputs": [
    {
     "data": {
      "text/html": [
       "<div><style>\n",
       ".dataframe > thead > tr,\n",
       ".dataframe > tbody > tr {\n",
       "  text-align: right;\n",
       "  white-space: pre-wrap;\n",
       "}\n",
       "</style>\n",
       "<small>shape: (2, 6)</small><table border=\"1\" class=\"dataframe\"><thead><tr><th>timestamp_bid</th><th>size_bid</th><th>bid</th><th>ask</th><th>size_ask</th><th>timestamp_ask</th></tr><tr><td>time</td><td>f64</td><td>f64</td><td>f64</td><td>f64</td><td>time</td></tr></thead><tbody><tr><td>21:48:52.681498</td><td>15.0</td><td>101.0</td><td>103.0</td><td>7.0</td><td>21:48:52.706999</td></tr><tr><td>21:48:52.672707</td><td>10.0</td><td>100.5</td><td>null</td><td>null</td><td>null</td></tr></tbody></table></div>"
      ],
      "text/plain": [
       "shape: (2, 6)\n",
       "┌─────────────────┬──────────┬───────┬───────┬──────────┬─────────────────┐\n",
       "│ timestamp_bid   ┆ size_bid ┆ bid   ┆ ask   ┆ size_ask ┆ timestamp_ask   │\n",
       "│ ---             ┆ ---      ┆ ---   ┆ ---   ┆ ---      ┆ ---             │\n",
       "│ time            ┆ f64      ┆ f64   ┆ f64   ┆ f64      ┆ time            │\n",
       "╞═════════════════╪══════════╪═══════╪═══════╪══════════╪═════════════════╡\n",
       "│ 21:48:52.681498 ┆ 15.0     ┆ 101.0 ┆ 103.0 ┆ 7.0      ┆ 21:48:52.706999 │\n",
       "│ 21:48:52.672707 ┆ 10.0     ┆ 100.5 ┆ null  ┆ null     ┆ null            │\n",
       "└─────────────────┴──────────┴───────┴───────┴──────────┴─────────────────┘"
      ]
     },
     "execution_count": 7,
     "metadata": {},
     "output_type": "execute_result"
    }
   ],
   "source": [
    "ob.get_order_book()"
   ]
  },
  {
   "cell_type": "code",
   "execution_count": 8,
   "metadata": {},
   "outputs": [
    {
     "data": {
      "text/html": [
       "<div><style>\n",
       ".dataframe > thead > tr,\n",
       ".dataframe > tbody > tr {\n",
       "  text-align: right;\n",
       "  white-space: pre-wrap;\n",
       "}\n",
       "</style>\n",
       "<small>shape: (3, 4)</small><table border=\"1\" class=\"dataframe\"><thead><tr><th>side</th><th>price</th><th>size</th><th>timestamp</th></tr><tr><td>str</td><td>f64</td><td>f64</td><td>datetime[μs]</td></tr></thead><tbody><tr><td>&quot;buy&quot;</td><td>103.0</td><td>1.0</td><td>2025-04-15 21:48:52.707322</td></tr><tr><td>&quot;buy&quot;</td><td>102.5</td><td>1.0</td><td>2025-04-15 21:48:52.707324</td></tr><tr><td>&quot;buy&quot;</td><td>102.0</td><td>1.0</td><td>2025-04-15 21:48:52.707325</td></tr></tbody></table></div>"
      ],
      "text/plain": [
       "shape: (3, 4)\n",
       "┌──────┬───────┬──────┬────────────────────────────┐\n",
       "│ side ┆ price ┆ size ┆ timestamp                  │\n",
       "│ ---  ┆ ---   ┆ ---  ┆ ---                        │\n",
       "│ str  ┆ f64   ┆ f64  ┆ datetime[μs]               │\n",
       "╞══════╪═══════╪══════╪════════════════════════════╡\n",
       "│ buy  ┆ 103.0 ┆ 1.0  ┆ 2025-04-15 21:48:52.707322 │\n",
       "│ buy  ┆ 102.5 ┆ 1.0  ┆ 2025-04-15 21:48:52.707324 │\n",
       "│ buy  ┆ 102.0 ┆ 1.0  ┆ 2025-04-15 21:48:52.707325 │\n",
       "└──────┴───────┴──────┴────────────────────────────┘"
      ]
     },
     "execution_count": 8,
     "metadata": {},
     "output_type": "execute_result"
    }
   ],
   "source": [
    "pl.DataFrame(trade.history)"
   ]
  },
  {
   "cell_type": "markdown",
   "metadata": {},
   "source": []
  },
  {
   "cell_type": "code",
   "execution_count": 9,
   "metadata": {},
   "outputs": [
    {
     "data": {
      "text/html": [
       "<div><style>\n",
       ".dataframe > thead > tr,\n",
       ".dataframe > tbody > tr {\n",
       "  text-align: right;\n",
       "  white-space: pre-wrap;\n",
       "}\n",
       "</style>\n",
       "<small>shape: (5, 3)</small><table border=\"1\" class=\"dataframe\"><thead><tr><th>timestamp</th><th>pnl</th><th>inventory</th></tr><tr><td>datetime[μs]</td><td>f64</td><td>f64</td></tr></thead><tbody><tr><td>2025-04-15 21:48:52.707322</td><td>0.0</td><td>1e7</td></tr><tr><td>2025-04-15 21:48:52.707322</td><td>74.508623</td><td>9.999999e6</td></tr><tr><td>2025-04-15 21:48:52.707324</td><td>148.517247</td><td>9.999998e6</td></tr><tr><td>2025-04-15 21:48:52.707325</td><td>222.02587</td><td>9.999997e6</td></tr><tr><td>2025-04-15 21:48:52.707325</td><td>222.02587</td><td>9.999997e6</td></tr></tbody></table></div>"
      ],
      "text/plain": [
       "shape: (5, 3)\n",
       "┌────────────────────────────┬────────────┬────────────┐\n",
       "│ timestamp                  ┆ pnl        ┆ inventory  │\n",
       "│ ---                        ┆ ---        ┆ ---        │\n",
       "│ datetime[μs]               ┆ f64        ┆ f64        │\n",
       "╞════════════════════════════╪════════════╪════════════╡\n",
       "│ 2025-04-15 21:48:52.707322 ┆ 0.0        ┆ 1e7        │\n",
       "│ 2025-04-15 21:48:52.707322 ┆ 74.508623  ┆ 9.999999e6 │\n",
       "│ 2025-04-15 21:48:52.707324 ┆ 148.517247 ┆ 9.999998e6 │\n",
       "│ 2025-04-15 21:48:52.707325 ┆ 222.02587  ┆ 9.999997e6 │\n",
       "│ 2025-04-15 21:48:52.707325 ┆ 222.02587  ┆ 9.999997e6 │\n",
       "└────────────────────────────┴────────────┴────────────┘"
      ]
     },
     "execution_count": 9,
     "metadata": {},
     "output_type": "execute_result"
    }
   ],
   "source": [
    "track_pnl(simulate_fair_price(), pl.DataFrame(trade.history), 10_000_000)"
   ]
  }
 ],
 "metadata": {
  "kernelspec": {
   "display_name": "elecmktprjct",
   "language": "python",
   "name": "python3"
  },
  "language_info": {
   "codemirror_mode": {
    "name": "ipython",
    "version": 3
   },
   "file_extension": ".py",
   "mimetype": "text/x-python",
   "name": "python",
   "nbconvert_exporter": "python",
   "pygments_lexer": "ipython3",
   "version": "3.11.11"
  }
 },
 "nbformat": 4,
 "nbformat_minor": 2
}
